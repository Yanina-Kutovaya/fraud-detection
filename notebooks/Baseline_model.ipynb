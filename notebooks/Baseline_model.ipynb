{
  "nbformat": 4,
  "nbformat_minor": 0,
  "metadata": {
    "colab": {
      "provenance": [],
      "collapsed_sections": [],
      "authorship_tag": "ABX9TyP5AF2zykhxwVAER/o4jPLV",
      "include_colab_link": true
    },
    "kernelspec": {
      "name": "python3",
      "display_name": "Python 3"
    },
    "language_info": {
      "name": "python"
    }
  },
  "cells": [
    {
      "cell_type": "markdown",
      "metadata": {
        "id": "view-in-github",
        "colab_type": "text"
      },
      "source": [
        "<a href=\"https://colab.research.google.com/github/Yanina-Kutovaya/fraud-detection/blob/main/notebooks/Baseline_model.ipynb\" target=\"_parent\"><img src=\"https://colab.research.google.com/assets/colab-badge.svg\" alt=\"Open In Colab\"/></a>"
      ]
    },
    {
      "cell_type": "code",
      "execution_count": 1,
      "metadata": {
        "id": "Q2gr5mUtr6p5"
      },
      "outputs": [],
      "source": [
        "APP_NAME = 'MLFlow Baseline model'\n",
        "YC_INPUT_DATA_BUCKET = 'airflow-cc-input'\n",
        "YC_SOURCE_BUCKET = 'airflow-cc-source'"
      ]
    },
    {
      "cell_type": "code",
      "source": [
        "#!pip install pyspark\n",
        "#!pip install mlflow"
      ],
      "metadata": {
        "id": "bldoDa6ysFPp"
      },
      "execution_count": 2,
      "outputs": []
    },
    {
      "cell_type": "code",
      "source": [
        "import requests\n",
        "\n",
        "CUSTOM_TRANSFORMERS_URL = f'https://storage.yandexcloud.net/{YC_SOURCE_BUCKET}/custom_transformers.py'\n",
        "FEATURE_EXTRACTION_PIPELINE_URL = f'https://storage.yandexcloud.net/{YC_SOURCE_BUCKET}/feature_extraction_pipeline.py'\n",
        "\n",
        "r = requests.get(CUSTOM_TRANSFORMERS_URL, allow_redirects=True)\n",
        "open('custom_transformers.py', 'wb').write(r.content)\n",
        "\n",
        "r = requests.get(FEATURE_EXTRACTION_PIPELINE_URL, allow_redirects=True)\n",
        "open('feature_extraction_pipeline.py', 'wb').write(r.content)"
      ],
      "metadata": {
        "colab": {
          "base_uri": "https://localhost:8080/"
        },
        "id": "aV4kxjNFLb2C",
        "outputId": "42a47ed0-c51d-4f55-c1c4-d6c3d913b965"
      },
      "execution_count": 3,
      "outputs": [
        {
          "output_type": "execute_result",
          "data": {
            "text/plain": [
              "3727"
            ]
          },
          "metadata": {},
          "execution_count": 3
        }
      ]
    },
    {
      "cell_type": "code",
      "source": [
        "import pandas as pd\n",
        "import numpy as np\n",
        "import logging\n",
        "import easydict\n",
        "import argparse\n",
        "from datetime import datetime\n",
        "from pyspark import SparkFiles\n",
        "from pyspark.sql import SparkSession\n",
        "import pyspark.sql.functions as F\n",
        "from pyspark.sql.types import IntegerType, DoubleType\n",
        "\n",
        "import mlflow\n",
        "from mlflow.tracking import MlflowClient\n",
        "from pyspark.ml import Pipeline\n",
        "from pyspark.ml.classification import GBTClassifier\n",
        "\n",
        "from scipy.stats import norm, ttest_ind\n",
        "import seaborn as sns\n",
        "\n",
        "from custom_transformers import (\n",
        "    DiscreteToBinaryTransformer,\n",
        "    ContinuousOutliersCapper,\n",
        "    TimeFeaturesGenerator,\n",
        "    ScalarNAFiller,\n",
        "    StringFromDiscrete\n",
        ")\n",
        "from feature_extraction_pipeline import get_feature_extraction_pipeline"
      ],
      "metadata": {
        "id": "UQMBc0ZvwJAK"
      },
      "execution_count": 4,
      "outputs": []
    },
    {
      "cell_type": "code",
      "source": [
        "logging.basicConfig(level=logging.INFO, format=\"%(asctime)-15s %(message)s\")\n",
        "logger = logging.getLogger()"
      ],
      "metadata": {
        "id": "Q9yXRM4ny-D2"
      },
      "execution_count": 5,
      "outputs": []
    },
    {
      "cell_type": "code",
      "source": [
        "def train_validation_split(data):\n",
        "  t = 3600 * 24 * 30\n",
        "  train = data.filter(F.col('TransactionDT') < t)\n",
        "  compromised_cards = (\n",
        "      train['card1', 'isFraud'].filter(F.col('isFraud') == 1)\n",
        "      .groupBy('card1').count().toPandas()['card1'].tolist()\n",
        "  )           \n",
        "  valid = (\n",
        "      data.filter(F.col('TransactionDT') >= t)\n",
        "      .where(~F.col('card1').isin(compromised_cards))\n",
        "  )\n",
        "  return train, valid\n",
        "\n",
        "\n",
        "def get_cards_precision_top_k(\n",
        "    predictions, k=50, plot=True, \n",
        "    bootstrap_iterations=100, seed=25):\n",
        "  np.random.seed(seed)\n",
        "  scores = pd.DataFrame(\n",
        "      data={f'precision_top_{k}': 0.0}, \n",
        "      index=range(bootstrap_iterations)\n",
        "  )\n",
        "  def extract_prob(v):\n",
        "    try:\n",
        "        return float(v[1])  \n",
        "    except ValueError:\n",
        "        return None\n",
        "\n",
        "  extract_prob_udf = F.udf(extract_prob, DoubleType())\n",
        "  predictions = predictions.withColumn(\n",
        "      'prob_flag', extract_prob_udf(F.col('probability'))\n",
        "  )\n",
        "  df = (\n",
        "    predictions.select('card1', 'prob_flag', 'isFraud')\n",
        "    .groupBy('card1').max('prob_flag', 'isFraud')\n",
        "    .orderBy(F.col('max(prob_flag)').desc())\n",
        "    .select('max(isFraud)')\n",
        "    .limit(k)        \n",
        "    .toPandas()    \n",
        "  )\n",
        "  for i in range(bootstrap_iterations):\n",
        "      sample = df.sample(frac=1.0, replace=True)\n",
        "      scores.loc[i, f'precision_top_{k}'] = sample.sum()[0] / k\n",
        "\n",
        "  precision_mean = scores[f'precision_top_{k}'].mean()\n",
        "  precision_std = scores[f'precision_top_{k}'].std()\n",
        "  precision_low = precision_mean - 3 * precision_std\n",
        "  precision_upp = precision_mean + 3 * precision_std\n",
        "\n",
        "  if plot:\n",
        "      print(f'CP@{k} = {round(precision_mean, 4)} +/- {round(precision_std, 4)}\\n')\n",
        "      ax = sns.kdeplot(x=scores[f'precision_top_{k}'])\n",
        "      x = np.linspace(precision_low, precision_upp, bootstrap_iterations)\n",
        "      y = norm.pdf(x, loc=precision_mean, scale=precision_std)\n",
        "      ax.plot(x, y, color=\"red\");\n",
        "\n",
        "  return precision_mean, precision_std"
      ],
      "metadata": {
        "id": "sQ-HRAHF3l2J"
      },
      "execution_count": 6,
      "outputs": []
    },
    {
      "cell_type": "code",
      "source": [
        "def main(args):\n",
        "  logger.info('Creating Spark Session ...')\n",
        "  spark = SparkSession.builder.appName(APP_NAME).getOrCreate()\n",
        "\n",
        "  logger.info('Loading data ...')\n",
        "  spark.sparkContext.addFile(args.train_data_URL)\n",
        "  data = spark.read.parquet(\n",
        "      SparkFiles.get(args.train_artifact), header=True, inferSchema=True\n",
        "  )\n",
        "\n",
        "  logger.info('Train validation split ...')\n",
        "  train, valid = train_validation_split(data)\n",
        "\n",
        "  # Prepare MLflow experiment for logging\n",
        "  client = MlflowClient()\n",
        "  experiment_id = client.create_experiment(args.output_artifact)\n",
        "  # Set run_name for search in mlflow \n",
        "  run_name = f'Credit_cards_fraud_detection_pipline {str(datetime.now())}' \n",
        "  with mlflow.start_run(run_name=run_name, experiment_id=experiment_id):\n",
        "    logger.info(\"Building an inference pipeline ...\")\n",
        "    feature_extraction_pipeline = get_feature_extraction_pipeline()\n",
        "    stages = feature_extraction_pipeline.getStages()\n",
        "    classifier = GBTClassifier(\n",
        "            featuresCol='features',\n",
        "            labelCol='isFraud',\n",
        "            maxDepth = 6,\n",
        "            minInstancesPerNode=1000\n",
        "    )\n",
        "    stages.append(classifier)\n",
        "    inference_pipeline = Pipeline(stages=stages)\n",
        "\n",
        "    logger.info(\"Fitting an inference pipeline ...\")\n",
        "    model = inference_pipeline.fit(train)\n",
        "\n",
        "    # Log params, metrics and model with MLFlow\n",
        "    run_id = mlflow.active_run().info.run_id\n",
        "    logger.info(f\"Logging parameters to MLflow run {run_id} ...\")\n",
        "\n",
        "    maxDepth = model.stages[-1].getMaxDepth() \n",
        "    minInstancesPerNode = model.stages[-1].getMinInstancesPerNode()    \n",
        "\n",
        "    logger.info(model.stages[-1].explainParam('maxDepth'))       \n",
        "    logger.info(model.stages[-1].explainParam('minInstancesPerNode')) \n",
        "\n",
        "    mlflow.log_param('maxDepth', maxDepth)\n",
        "    mlflow.log_param('minInstancesPerNode', minInstancesPerNode)\n",
        "\n",
        "    logger.info('Scoring the model ...')  \n",
        "    predictions = model.transform(valid) \n",
        "    precision_mean, precision_std = get_cards_precision_top_k(predictions, args.k, True)\n",
        "\n",
        "    logger.info(f'Logging metrics to MLflow run {run_id} ...')     \n",
        "    mlflow.log_metric(f'CP_at_{args.k}_mean', precision_mean)\n",
        "    mlflow.log_metric(f'CP_at_{args.k}_std', precision_std)\n",
        "    logger.info(f'Model CP@50: {round(precision_mean, 4)} +/- {round(precision_std, 4)}')\n",
        "\n",
        "    logger.info(\"Saving pipeline ...\")\n",
        "    mlflow.spark.save_model(model, args.output_artifact)\n",
        "\n",
        "    logger.info(\"Exporting/logging pipline ...\")\n",
        "    mlflow.spark.log_model(model, args.output_artifact)  \n",
        "\n",
        "    logger.info('Done')\n",
        "\n",
        "  spark.stop()"
      ],
      "metadata": {
        "id": "FZhJCxpCyID_"
      },
      "execution_count": 7,
      "outputs": []
    },
    {
      "cell_type": "code",
      "source": [
        "args = easydict.EasyDict(\n",
        "    {\n",
        "        'train_data_URL': 'https://storage.yandexcloud.net/credit-cards-data/train.parquet',\n",
        "        'train_artifact': 'train.parquet',             \n",
        "        'output_artifact': 'Spark_GBTClassifier_v1',\n",
        "        'k': 50\n",
        "    }\n",
        ")\n",
        "\n",
        "main(args)"
      ],
      "metadata": {
        "colab": {
          "base_uri": "https://localhost:8080/",
          "height": 315
        },
        "id": "T701VUuHxDOa",
        "outputId": "9acd2334-5d20-40b7-b6a8-90ffba1a37df"
      },
      "execution_count": 8,
      "outputs": [
        {
          "output_type": "stream",
          "name": "stdout",
          "text": [
            "CP@50 = 0.1186 +/- 0.0402\n",
            "\n"
          ]
        },
        {
          "output_type": "display_data",
          "data": {
            "text/plain": [
              "<Figure size 432x288 with 1 Axes>"
            ],
            "image/png": "[encoded data removed]"
          },
          "metadata": {
            "needs_background": "light"
          }
        }
      ]
    }
  ]
}